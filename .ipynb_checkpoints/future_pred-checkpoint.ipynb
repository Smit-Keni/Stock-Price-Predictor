{
 "cells": [
  {
   "cell_type": "code",
   "execution_count": 51,
   "id": "011d6cce-a2c4-4a70-9988-4c59385a03a5",
   "metadata": {},
   "outputs": [],
   "source": [
    "import pandas as pd\n",
    "import numpy as np\n",
    "import pandas_datareader as data\n",
    "import matplotlib.pyplot as plt\n",
    "from dateutil.relativedelta import relativedelta\n",
    "import yfinance as yf\n",
    "import datetime as dt\n",
    "from keras.models import load_model"
   ]
  },
  {
   "cell_type": "code",
   "execution_count": 123,
   "id": "abd707ee-0118-490f-acdc-2249ad5e6457",
   "metadata": {},
   "outputs": [
    {
     "name": "stderr",
     "output_type": "stream",
     "text": [
      "[*********************100%***********************]  1 of 1 completed\n"
     ]
    }
   ],
   "source": [
    "stock=\"AAPL\"\n",
    "start_fut = dt.date.today() - relativedelta(days=150)\n",
    "end_fut = dt.date.today()\n",
    "\n",
    "dff = yf.download(stock,start_fut,end_fut,auto_adjust=False)\n",
    "\n",
    "dff.to_csv(\"stock_data_latest.csv\")\n",
    "dff = pd.read_csv(\"stock_data_latest.csv\")\n",
    "\n",
    "dff.rename(columns={\"Price\":\"Date\"},inplace=True)\n",
    "dff.drop(index=[0,1],inplace=True)\n",
    "dff=dff.drop([\"Adj Close\",\"Date\"],axis=1)\n",
    "dff = dff.reset_index(drop=True)\n",
    "#I had to apply this step for a certain reason\n",
    "dff = dff.apply(pd.to_numeric, errors='coerce')"
   ]
  },
  {
   "cell_type": "code",
   "execution_count": 124,
   "id": "9fd02a8e-b541-4fcc-b06d-558c3f0703aa",
   "metadata": {},
   "outputs": [
    {
     "data": {
      "text/html": [
       "<div>\n",
       "<style scoped>\n",
       "    .dataframe tbody tr th:only-of-type {\n",
       "        vertical-align: middle;\n",
       "    }\n",
       "\n",
       "    .dataframe tbody tr th {\n",
       "        vertical-align: top;\n",
       "    }\n",
       "\n",
       "    .dataframe thead th {\n",
       "        text-align: right;\n",
       "    }\n",
       "</style>\n",
       "<table border=\"1\" class=\"dataframe\">\n",
       "  <thead>\n",
       "    <tr style=\"text-align: right;\">\n",
       "      <th></th>\n",
       "      <th>Close</th>\n",
       "    </tr>\n",
       "  </thead>\n",
       "  <tbody>\n",
       "    <tr>\n",
       "      <th>0</th>\n",
       "      <td>228.009995</td>\n",
       "    </tr>\n",
       "    <tr>\n",
       "      <th>1</th>\n",
       "      <td>232.800003</td>\n",
       "    </tr>\n",
       "    <tr>\n",
       "      <th>2</th>\n",
       "      <td>232.470001</td>\n",
       "    </tr>\n",
       "    <tr>\n",
       "      <th>3</th>\n",
       "      <td>233.220001</td>\n",
       "    </tr>\n",
       "    <tr>\n",
       "      <th>4</th>\n",
       "      <td>227.630005</td>\n",
       "    </tr>\n",
       "    <tr>\n",
       "      <th>...</th>\n",
       "      <td>...</td>\n",
       "    </tr>\n",
       "    <tr>\n",
       "      <th>99</th>\n",
       "      <td>201.000000</td>\n",
       "    </tr>\n",
       "    <tr>\n",
       "      <th>100</th>\n",
       "      <td>201.080002</td>\n",
       "    </tr>\n",
       "    <tr>\n",
       "      <th>101</th>\n",
       "      <td>205.169998</td>\n",
       "    </tr>\n",
       "    <tr>\n",
       "      <th>102</th>\n",
       "      <td>207.820007</td>\n",
       "    </tr>\n",
       "    <tr>\n",
       "      <th>103</th>\n",
       "      <td>212.440002</td>\n",
       "    </tr>\n",
       "  </tbody>\n",
       "</table>\n",
       "<p>104 rows × 1 columns</p>\n",
       "</div>"
      ],
      "text/plain": [
       "          Close\n",
       "0    228.009995\n",
       "1    232.800003\n",
       "2    232.470001\n",
       "3    233.220001\n",
       "4    227.630005\n",
       "..          ...\n",
       "99   201.000000\n",
       "100  201.080002\n",
       "101  205.169998\n",
       "102  207.820007\n",
       "103  212.440002\n",
       "\n",
       "[104 rows x 1 columns]"
      ]
     },
     "execution_count": 124,
     "metadata": {},
     "output_type": "execute_result"
    }
   ],
   "source": [
    "dff = dff.drop([\"High\",\"Low\",\"Open\",\"Volume\"],axis=1)\n",
    "dff"
   ]
  },
  {
   "cell_type": "code",
   "execution_count": 141,
   "id": "63907d9d-7c26-4ab1-912e-1bc7335d9ecc",
   "metadata": {},
   "outputs": [],
   "source": [
    "from sklearn.preprocessing import MinMaxScaler\n",
    "scaler = MinMaxScaler(feature_range=(0,1))\n",
    "model = load_model(\"stock_model.keras\")"
   ]
  },
  {
   "cell_type": "code",
   "execution_count": 173,
   "id": "8c71ee82-fc3a-4a9b-909e-23999b6b9c06",
   "metadata": {},
   "outputs": [
    {
     "data": {
      "text/plain": [
       "[<matplotlib.lines.Line2D at 0x220200c7f80>]"
      ]
     },
     "execution_count": 173,
     "metadata": {},
     "output_type": "execute_result"
    },
    {
     "data": {
      "image/png": "[encoded data removed]",
      "text/plain": [
       "<Figure size 640x480 with 1 Axes>"
      ]
     },
     "metadata": {},
     "output_type": "display_data"
    }
   ],
   "source": [
    "input_fut  = scaler.fit_transform(dff)\n",
    "input_fut = input_fut.flatten()\n",
    "input_fut\n",
    "plt.plot(input_fut)\n"
   ]
  },
  {
   "cell_type": "code",
   "execution_count": 146,
   "id": "12a630fc-9ecf-4376-8223-b19f6c392f34",
   "metadata": {},
   "outputs": [],
   "source": [
    "X_fut_test=[]\n",
    "for i in range(100,len(input_fut)):\n",
    "    X_fut_test.append(input_fut[i-100:i])\n",
    "\n",
    "X_fut_test = np.array(X_fut_test)\n"
   ]
  },
  {
   "cell_type": "code",
   "execution_count": 147,
   "id": "94400a31-52ed-4ced-bd26-3a2bcf71687d",
   "metadata": {},
   "outputs": [],
   "source": [
    "\n",
    "result = []"
   ]
  },
  {
   "cell_type": "code",
   "execution_count": 154,
   "id": "045e7ec4-eea8-443d-8b47-18b647e39b26",
   "metadata": {},
   "outputs": [
    {
     "name": "stdout",
     "output_type": "stream",
     "text": [
      "\u001b[1m1/1\u001b[0m \u001b[32m━━━━━━━━━━━━━━━━━━━━\u001b[0m\u001b[37m\u001b[0m \u001b[1m0s\u001b[0m 40ms/step\n"
     ]
    },
    {
     "data": {
      "text/plain": [
       "array([0.37687498, 0.37680787, 0.37879673, 0.38340047], dtype=float32)"
      ]
     },
     "execution_count": 154,
     "metadata": {},
     "output_type": "execute_result"
    }
   ],
   "source": [
    "  \n",
    "pred = model.predict(X_fut_test)\n",
    "\n",
    "result.extend(pred)\n",
    "pred=pred.flatten()\n",
    "pred"
   ]
  },
  {
   "cell_type": "code",
   "execution_count": 169,
   "id": "d2b28a89-5a39-48dc-9f4b-7ce4924e6d21",
   "metadata": {},
   "outputs": [
    {
     "name": "stdout",
     "output_type": "stream",
     "text": [
      "\u001b[1m1/1\u001b[0m \u001b[32m━━━━━━━━━━━━━━━━━━━━\u001b[0m\u001b[37m\u001b[0m \u001b[1m0s\u001b[0m 39ms/step\n",
      "\u001b[1m1/1\u001b[0m \u001b[32m━━━━━━━━━━━━━━━━━━━━\u001b[0m\u001b[37m\u001b[0m \u001b[1m0s\u001b[0m 39ms/step\n",
      "\u001b[1m1/1\u001b[0m \u001b[32m━━━━━━━━━━━━━━━━━━━━\u001b[0m\u001b[37m\u001b[0m \u001b[1m0s\u001b[0m 39ms/step\n",
      "\u001b[1m1/1\u001b[0m \u001b[32m━━━━━━━━━━━━━━━━━━━━\u001b[0m\u001b[37m\u001b[0m \u001b[1m0s\u001b[0m 41ms/step\n",
      "\u001b[1m1/1\u001b[0m \u001b[32m━━━━━━━━━━━━━━━━━━━━\u001b[0m\u001b[37m\u001b[0m \u001b[1m0s\u001b[0m 41ms/step\n",
      "\u001b[1m1/1\u001b[0m \u001b[32m━━━━━━━━━━━━━━━━━━━━\u001b[0m\u001b[37m\u001b[0m \u001b[1m0s\u001b[0m 40ms/step\n",
      "\u001b[1m1/1\u001b[0m \u001b[32m━━━━━━━━━━━━━━━━━━━━\u001b[0m\u001b[37m\u001b[0m \u001b[1m0s\u001b[0m 39ms/step\n",
      "\u001b[1m1/1\u001b[0m \u001b[32m━━━━━━━━━━━━━━━━━━━━\u001b[0m\u001b[37m\u001b[0m \u001b[1m0s\u001b[0m 38ms/step\n",
      "\u001b[1m1/1\u001b[0m \u001b[32m━━━━━━━━━━━━━━━━━━━━\u001b[0m\u001b[37m\u001b[0m \u001b[1m0s\u001b[0m 40ms/step\n",
      "\u001b[1m1/1\u001b[0m \u001b[32m━━━━━━━━━━━━━━━━━━━━\u001b[0m\u001b[37m\u001b[0m \u001b[1m0s\u001b[0m 39ms/step\n",
      "\u001b[1m1/1\u001b[0m \u001b[32m━━━━━━━━━━━━━━━━━━━━\u001b[0m\u001b[37m\u001b[0m \u001b[1m0s\u001b[0m 42ms/step\n",
      "\u001b[1m1/1\u001b[0m \u001b[32m━━━━━━━━━━━━━━━━━━━━\u001b[0m\u001b[37m\u001b[0m \u001b[1m0s\u001b[0m 41ms/step\n",
      "\u001b[1m1/1\u001b[0m \u001b[32m━━━━━━━━━━━━━━━━━━━━\u001b[0m\u001b[37m\u001b[0m \u001b[1m0s\u001b[0m 40ms/step\n",
      "\u001b[1m1/1\u001b[0m \u001b[32m━━━━━━━━━━━━━━━━━━━━\u001b[0m\u001b[37m\u001b[0m \u001b[1m0s\u001b[0m 39ms/step\n",
      "\u001b[1m1/1\u001b[0m \u001b[32m━━━━━━━━━━━━━━━━━━━━\u001b[0m\u001b[37m\u001b[0m \u001b[1m0s\u001b[0m 43ms/step\n",
      "\u001b[1m1/1\u001b[0m \u001b[32m━━━━━━━━━━━━━━━━━━━━\u001b[0m\u001b[37m\u001b[0m \u001b[1m0s\u001b[0m 40ms/step\n",
      "\u001b[1m1/1\u001b[0m \u001b[32m━━━━━━━━━━━━━━━━━━━━\u001b[0m\u001b[37m\u001b[0m \u001b[1m0s\u001b[0m 41ms/step\n",
      "\u001b[1m1/1\u001b[0m \u001b[32m━━━━━━━━━━━━━━━━━━━━\u001b[0m\u001b[37m\u001b[0m \u001b[1m0s\u001b[0m 40ms/step\n",
      "\u001b[1m1/1\u001b[0m \u001b[32m━━━━━━━━━━━━━━━━━━━━\u001b[0m\u001b[37m\u001b[0m \u001b[1m0s\u001b[0m 40ms/step\n",
      "\u001b[1m1/1\u001b[0m \u001b[32m━━━━━━━━━━━━━━━━━━━━\u001b[0m\u001b[37m\u001b[0m \u001b[1m0s\u001b[0m 97ms/step\n",
      "\u001b[1m1/1\u001b[0m \u001b[32m━━━━━━━━━━━━━━━━━━━━\u001b[0m\u001b[37m\u001b[0m \u001b[1m0s\u001b[0m 39ms/step\n",
      "\u001b[1m1/1\u001b[0m \u001b[32m━━━━━━━━━━━━━━━━━━━━\u001b[0m\u001b[37m\u001b[0m \u001b[1m0s\u001b[0m 40ms/step\n",
      "\u001b[1m1/1\u001b[0m \u001b[32m━━━━━━━━━━━━━━━━━━━━\u001b[0m\u001b[37m\u001b[0m \u001b[1m0s\u001b[0m 39ms/step\n",
      "\u001b[1m1/1\u001b[0m \u001b[32m━━━━━━━━━━━━━━━━━━━━\u001b[0m\u001b[37m\u001b[0m \u001b[1m0s\u001b[0m 40ms/step\n",
      "\u001b[1m1/1\u001b[0m \u001b[32m━━━━━━━━━━━━━━━━━━━━\u001b[0m\u001b[37m\u001b[0m \u001b[1m0s\u001b[0m 43ms/step\n"
     ]
    }
   ],
   "source": [
    "for i in range(25):\n",
    "    pred= model.predict(X_fut_test)\n",
    "    pred=pred.flatten()\n",
    "    result.extend(pred)\n",
    "    \n",
    "    input_fut = np.concatenate((input_fut, pred))\n",
    "    input_fut = input_fut[4:]\n",
    "    X_fut_test=[]\n",
    "    for i in range(100,len(input_fut)):\n",
    "        X_fut_test.append(input_fut[i-100:i])\n",
    "\n",
    "    X_fut_test = np.array(X_fut_test)\n",
    "        "
   ]
  },
  {
   "cell_type": "code",
   "execution_count": 160,
   "id": "6b25d2f4-5573-4bd3-a071-9e740acd4557",
   "metadata": {},
   "outputs": [
    {
     "ename": "ValueError",
     "evalue": "Input could not be cast to an at-least-1D NumPy array",
     "output_type": "error",
     "traceback": [
      "\u001b[31m---------------------------------------------------------------------------\u001b[39m",
      "\u001b[31mValueError\u001b[39m                                Traceback (most recent call last)",
      "\u001b[36mCell\u001b[39m\u001b[36m \u001b[39m\u001b[32mIn[160]\u001b[39m\u001b[32m, line 1\u001b[39m\n\u001b[32m----> \u001b[39m\u001b[32m1\u001b[39m \u001b[43mplt\u001b[49m\u001b[43m.\u001b[49m\u001b[43mplot\u001b[49m\u001b[43m(\u001b[49m\u001b[43mresult\u001b[49m\u001b[43m)\u001b[49m\n\u001b[32m      2\u001b[39m plt.plot(input_fut,\u001b[33m\"\u001b[39m\u001b[33mred\u001b[39m\u001b[33m\"\u001b[39m)\n",
      "\u001b[36mFile \u001b[39m\u001b[32m~\\AppData\\Local\\Programs\\Python\\Python312\\Lib\\site-packages\\matplotlib\\pyplot.py:3838\u001b[39m, in \u001b[36mplot\u001b[39m\u001b[34m(scalex, scaley, data, *args, **kwargs)\u001b[39m\n\u001b[32m   3830\u001b[39m \u001b[38;5;129m@_copy_docstring_and_deprecators\u001b[39m(Axes.plot)\n\u001b[32m   3831\u001b[39m \u001b[38;5;28;01mdef\u001b[39;00m\u001b[38;5;250m \u001b[39m\u001b[34mplot\u001b[39m(\n\u001b[32m   3832\u001b[39m     *args: \u001b[38;5;28mfloat\u001b[39m | ArrayLike | \u001b[38;5;28mstr\u001b[39m,\n\u001b[32m   (...)\u001b[39m\u001b[32m   3836\u001b[39m     **kwargs,\n\u001b[32m   3837\u001b[39m ) -> \u001b[38;5;28mlist\u001b[39m[Line2D]:\n\u001b[32m-> \u001b[39m\u001b[32m3838\u001b[39m     \u001b[38;5;28;01mreturn\u001b[39;00m \u001b[43mgca\u001b[49m\u001b[43m(\u001b[49m\u001b[43m)\u001b[49m\u001b[43m.\u001b[49m\u001b[43mplot\u001b[49m\u001b[43m(\u001b[49m\n\u001b[32m   3839\u001b[39m \u001b[43m        \u001b[49m\u001b[43m*\u001b[49m\u001b[43margs\u001b[49m\u001b[43m,\u001b[49m\n\u001b[32m   3840\u001b[39m \u001b[43m        \u001b[49m\u001b[43mscalex\u001b[49m\u001b[43m=\u001b[49m\u001b[43mscalex\u001b[49m\u001b[43m,\u001b[49m\n\u001b[32m   3841\u001b[39m \u001b[43m        \u001b[49m\u001b[43mscaley\u001b[49m\u001b[43m=\u001b[49m\u001b[43mscaley\u001b[49m\u001b[43m,\u001b[49m\n\u001b[32m   3842\u001b[39m \u001b[43m        \u001b[49m\u001b[43m*\u001b[49m\u001b[43m*\u001b[49m\u001b[43m(\u001b[49m\u001b[43m{\u001b[49m\u001b[33;43m\"\u001b[39;49m\u001b[33;43mdata\u001b[39;49m\u001b[33;43m\"\u001b[39;49m\u001b[43m:\u001b[49m\u001b[43m \u001b[49m\u001b[43mdata\u001b[49m\u001b[43m}\u001b[49m\u001b[43m \u001b[49m\u001b[38;5;28;43;01mif\u001b[39;49;00m\u001b[43m \u001b[49m\u001b[43mdata\u001b[49m\u001b[43m \u001b[49m\u001b[38;5;129;43;01mis\u001b[39;49;00m\u001b[43m \u001b[49m\u001b[38;5;129;43;01mnot\u001b[39;49;00m\u001b[43m \u001b[49m\u001b[38;5;28;43;01mNone\u001b[39;49;00m\u001b[43m \u001b[49m\u001b[38;5;28;43;01melse\u001b[39;49;00m\u001b[43m \u001b[49m\u001b[43m{\u001b[49m\u001b[43m}\u001b[49m\u001b[43m)\u001b[49m\u001b[43m,\u001b[49m\n\u001b[32m   3843\u001b[39m \u001b[43m        \u001b[49m\u001b[43m*\u001b[49m\u001b[43m*\u001b[49m\u001b[43mkwargs\u001b[49m\u001b[43m,\u001b[49m\n\u001b[32m   3844\u001b[39m \u001b[43m    \u001b[49m\u001b[43m)\u001b[49m\n",
      "\u001b[36mFile \u001b[39m\u001b[32m~\\AppData\\Local\\Programs\\Python\\Python312\\Lib\\site-packages\\matplotlib\\axes\\_axes.py:1777\u001b[39m, in \u001b[36mAxes.plot\u001b[39m\u001b[34m(self, scalex, scaley, data, *args, **kwargs)\u001b[39m\n\u001b[32m   1534\u001b[39m \u001b[38;5;250m\u001b[39m\u001b[33;03m\"\"\"\u001b[39;00m\n\u001b[32m   1535\u001b[39m \u001b[33;03mPlot y versus x as lines and/or markers.\u001b[39;00m\n\u001b[32m   1536\u001b[39m \n\u001b[32m   (...)\u001b[39m\u001b[32m   1774\u001b[39m \u001b[33;03m(``'green'``) or hex strings (``'#008000'``).\u001b[39;00m\n\u001b[32m   1775\u001b[39m \u001b[33;03m\"\"\"\u001b[39;00m\n\u001b[32m   1776\u001b[39m kwargs = cbook.normalize_kwargs(kwargs, mlines.Line2D)\n\u001b[32m-> \u001b[39m\u001b[32m1777\u001b[39m lines = [*\u001b[38;5;28mself\u001b[39m._get_lines(\u001b[38;5;28mself\u001b[39m, *args, data=data, **kwargs)]\n\u001b[32m   1778\u001b[39m \u001b[38;5;28;01mfor\u001b[39;00m line \u001b[38;5;129;01min\u001b[39;00m lines:\n\u001b[32m   1779\u001b[39m     \u001b[38;5;28mself\u001b[39m.add_line(line)\n",
      "\u001b[36mFile \u001b[39m\u001b[32m~\\AppData\\Local\\Programs\\Python\\Python312\\Lib\\site-packages\\matplotlib\\axes\\_base.py:297\u001b[39m, in \u001b[36m_process_plot_var_args.__call__\u001b[39m\u001b[34m(self, axes, data, return_kwargs, *args, **kwargs)\u001b[39m\n\u001b[32m    295\u001b[39m     this += args[\u001b[32m0\u001b[39m],\n\u001b[32m    296\u001b[39m     args = args[\u001b[32m1\u001b[39m:]\n\u001b[32m--> \u001b[39m\u001b[32m297\u001b[39m \u001b[38;5;28;01myield from\u001b[39;00m \u001b[38;5;28;43mself\u001b[39;49m\u001b[43m.\u001b[49m\u001b[43m_plot_args\u001b[49m\u001b[43m(\u001b[49m\n\u001b[32m    298\u001b[39m \u001b[43m    \u001b[49m\u001b[43maxes\u001b[49m\u001b[43m,\u001b[49m\u001b[43m \u001b[49m\u001b[43mthis\u001b[49m\u001b[43m,\u001b[49m\u001b[43m \u001b[49m\u001b[43mkwargs\u001b[49m\u001b[43m,\u001b[49m\u001b[43m \u001b[49m\u001b[43mambiguous_fmt_datakey\u001b[49m\u001b[43m=\u001b[49m\u001b[43mambiguous_fmt_datakey\u001b[49m\u001b[43m,\u001b[49m\n\u001b[32m    299\u001b[39m \u001b[43m    \u001b[49m\u001b[43mreturn_kwargs\u001b[49m\u001b[43m=\u001b[49m\u001b[43mreturn_kwargs\u001b[49m\n\u001b[32m    300\u001b[39m \u001b[43m\u001b[49m\u001b[43m)\u001b[49m\n",
      "\u001b[36mFile \u001b[39m\u001b[32m~\\AppData\\Local\\Programs\\Python\\Python312\\Lib\\site-packages\\matplotlib\\axes\\_base.py:486\u001b[39m, in \u001b[36m_process_plot_var_args._plot_args\u001b[39m\u001b[34m(self, axes, tup, kwargs, return_kwargs, ambiguous_fmt_datakey)\u001b[39m\n\u001b[32m    484\u001b[39m     y = _check_1d(xy[\u001b[32m1\u001b[39m])\n\u001b[32m    485\u001b[39m \u001b[38;5;28;01melse\u001b[39;00m:\n\u001b[32m--> \u001b[39m\u001b[32m486\u001b[39m     x, y = \u001b[43mindex_of\u001b[49m\u001b[43m(\u001b[49m\u001b[43mxy\u001b[49m\u001b[43m[\u001b[49m\u001b[43m-\u001b[49m\u001b[32;43m1\u001b[39;49m\u001b[43m]\u001b[49m\u001b[43m)\u001b[49m\n\u001b[32m    488\u001b[39m \u001b[38;5;28;01mif\u001b[39;00m axes.xaxis \u001b[38;5;129;01mis\u001b[39;00m \u001b[38;5;129;01mnot\u001b[39;00m \u001b[38;5;28;01mNone\u001b[39;00m:\n\u001b[32m    489\u001b[39m     axes.xaxis.update_units(x)\n",
      "\u001b[36mFile \u001b[39m\u001b[32m~\\AppData\\Local\\Programs\\Python\\Python312\\Lib\\site-packages\\matplotlib\\cbook.py:1682\u001b[39m, in \u001b[36mindex_of\u001b[39m\u001b[34m(y)\u001b[39m\n\u001b[32m   1680\u001b[39m \u001b[38;5;28;01melse\u001b[39;00m:\n\u001b[32m   1681\u001b[39m     \u001b[38;5;28;01mreturn\u001b[39;00m np.arange(y.shape[\u001b[32m0\u001b[39m], dtype=\u001b[38;5;28mfloat\u001b[39m), y\n\u001b[32m-> \u001b[39m\u001b[32m1682\u001b[39m \u001b[38;5;28;01mraise\u001b[39;00m \u001b[38;5;167;01mValueError\u001b[39;00m(\u001b[33m'\u001b[39m\u001b[33mInput could not be cast to an at-least-1D NumPy array\u001b[39m\u001b[33m'\u001b[39m)\n",
      "\u001b[31mValueError\u001b[39m: Input could not be cast to an at-least-1D NumPy array"
     ]
    },
    {
     "data": {
      "image/png": "[encoded data removed]",
      "text/plain": [
       "<Figure size 640x480 with 1 Axes>"
      ]
     },
     "metadata": {},
     "output_type": "display_data"
    }
   ],
   "source": [
    "plt.plot(result)\n",
    "plt.plot(input_fut,\"red\")"
   ]
  },
  {
   "cell_type": "code",
   "execution_count": 176,
   "id": "b609cabc-e77f-418f-8de3-e98a7a4aef2e",
   "metadata": {},
   "outputs": [],
   "source": [
    "clean_floats = [float(x) if isinstance(x, np.float32) else float(x[0]) for x in result]\n"
   ]
  },
  {
   "cell_type": "code",
   "execution_count": 177,
   "id": "430a0b95-31da-4888-ba81-c1ef399c3f29",
   "metadata": {},
   "outputs": [
    {
     "data": {
      "text/plain": [
       "[0.37687498331069946,\n",
       " 0.3768078684806824,\n",
       " 0.3787967264652252,\n",
       " 0.38340047001838684,\n",
       " 0.37687498331069946,\n",
       " 0.3768078684806824,\n",
       " 0.3787967264652252,\n",
       " 0.38340047001838684,\n",
       " 0.37687498331069946,\n",
       " 0.3768078684806824,\n",
       " 0.3787967264652252,\n",
       " 0.38340047001838684,\n",
       " 0.37687498331069946,\n",
       " 0.3768078684806824,\n",
       " 0.3787967264652252,\n",
       " 0.38340047001838684,\n",
       " 0.37687498331069946,\n",
       " 0.3768078684806824,\n",
       " 0.3787967264652252,\n",
       " 0.38340047001838684,\n",
       " 0.37687498331069946,\n",
       " 0.3768078684806824,\n",
       " 0.3787967264652252,\n",
       " 0.38340047001838684,\n",
       " 0.37687498331069946,\n",
       " 0.3768078684806824,\n",
       " 0.3787967264652252,\n",
       " 0.38340047001838684,\n",
       " 0.37687498331069946,\n",
       " 0.3768078684806824,\n",
       " 0.3787967264652252,\n",
       " 0.38340047001838684,\n",
       " 0.3915320336818695,\n",
       " 0.401985228061676,\n",
       " 0.41288328170776367,\n",
       " 0.42264264822006226,\n",
       " 0.43051332235336304,\n",
       " 0.43607789278030396,\n",
       " 0.4393860399723053,\n",
       " 0.4408464729785919,\n",
       " 0.4410604238510132,\n",
       " 0.440690279006958,\n",
       " 0.440360963344574,\n",
       " 0.44063854217529297,\n",
       " 0.44181641936302185,\n",
       " 0.44390982389450073,\n",
       " 0.4468298852443695,\n",
       " 0.4503796100616455,\n",
       " 0.4542807936668396,\n",
       " 0.4582582712173462,\n",
       " 0.4621002972126007,\n",
       " 0.4656772017478943,\n",
       " 0.468942791223526,\n",
       " 0.47191476821899414,\n",
       " 0.4746516942977905,\n",
       " 0.4772389531135559,\n",
       " 0.4797656834125519,\n",
       " 0.48231756687164307,\n",
       " 0.4849596917629242,\n",
       " 0.48771634697914124,\n",
       " 0.49056556820869446,\n",
       " 0.49347588419914246,\n",
       " 0.49641257524490356,\n",
       " 0.49933937191963196,\n",
       " 0.5022254586219788,\n",
       " 0.5050506591796875,\n",
       " 0.5078063011169434,\n",
       " 0.5104936361312866,\n",
       " 0.5131222605705261,\n",
       " 0.5157043933868408,\n",
       " 0.5182520747184753,\n",
       " 0.5207734107971191,\n",
       " 0.5232738256454468,\n",
       " 0.5257566571235657,\n",
       " 0.5282306671142578,\n",
       " 0.5306988954544067,\n",
       " 0.5331612825393677,\n",
       " 0.5356160402297974,\n",
       " 0.5380603075027466,\n",
       " 0.5404932498931885,\n",
       " 0.5429164171218872,\n",
       " 0.545332670211792,\n",
       " 0.547745406627655,\n",
       " 0.5501574873924255,\n",
       " 0.5525710582733154,\n",
       " 0.5549873113632202,\n",
       " 0.5574071407318115,\n",
       " 0.559830367565155,\n",
       " 0.5622566342353821,\n",
       " 0.5646861791610718,\n",
       " 0.5671210289001465,\n",
       " 0.5695621967315674,\n",
       " 0.5720100402832031,\n",
       " 0.5744644403457642,\n",
       " 0.5769250392913818,\n",
       " 0.5793911218643188,\n",
       " 0.5818618535995483,\n",
       " 0.5843364000320435,\n",
       " 0.5868140459060669,\n",
       " 0.5892939567565918,\n",
       " 0.5917757749557495,\n",
       " 0.5942590236663818,\n",
       " 0.5967432260513306,\n",
       " 0.5992279052734375,\n",
       " 0.6017126441001892,\n",
       " 0.604197084903717,\n",
       " 0.6066805124282837,\n",
       " 0.6091625094413757,\n",
       " 0.6116424798965454,\n",
       " 0.6141196489334106,\n",
       " 0.616593599319458,\n",
       " 0.6190637946128845,\n",
       " 0.6215295791625977,\n",
       " 0.623990535736084,\n",
       " 0.6264477968215942,\n",
       " 0.6289030313491821,\n",
       " 0.6313626170158386,\n",
       " 0.6338294744491577,\n",
       " 0.6363048553466797,\n",
       " 0.638788104057312,\n",
       " 0.6412781476974487,\n",
       " 0.6437731981277466,\n",
       " 0.6462715864181519,\n",
       " 0.6487720012664795,\n",
       " 0.6512736678123474,\n",
       " 0.6537759304046631,\n",
       " 0.6562788486480713,\n",
       " 0.6587823033332825,\n",
       " 0.661286473274231,\n",
       " 0.6637911796569824,\n",
       " 0.6662963628768921,\n",
       " 0.6688016057014465,\n",
       " 0.6713061332702637,\n",
       " 0.6738094687461853,\n",
       " 0.676310658454895,\n",
       " 0.6788091063499451,\n",
       " 0.6813039183616638,\n",
       " 0.6837945580482483,\n",
       " 0.686280369758606,\n",
       " 0.6887611150741577,\n",
       " 0.691236138343811,\n",
       " 0.693705141544342,\n",
       " 0.6961678266525269,\n",
       " 0.6986237168312073,\n",
       " 0.7010728120803833,\n",
       " 0.7035174369812012,\n",
       " 0.705959677696228,\n",
       " 0.7084013223648071,\n",
       " 0.7108429670333862,\n",
       " 0.7132843732833862,\n",
       " 0.7157245874404907,\n",
       " 0.7181622982025146,\n",
       " 0.720596194267273,\n",
       " 0.7230250835418701,\n",
       " 0.7254481315612793,\n",
       " 0.7278647422790527,\n",
       " 0.7302746772766113,\n",
       " 0.732677698135376,\n",
       " 0.7350735664367676,\n",
       " 0.7374622821807861,\n",
       " 0.739843487739563,\n",
       " 0.7422170639038086,\n",
       " 0.7445821762084961,\n",
       " 0.7469385862350464,\n",
       " 0.7492854595184326,\n",
       " 0.7516224384307861,\n",
       " 0.7539488077163696,\n",
       " 0.7562642097473145,\n",
       " 0.7585684061050415,\n",
       " 0.7608609199523926,\n",
       " 0.7631427049636841,\n",
       " 0.765414834022522,\n",
       " 0.7676775455474854,\n",
       " 0.7699302434921265,\n",
       " 0.772172212600708,\n",
       " 0.7744020223617554,\n",
       " 0.7766188383102417,\n",
       " 0.7788218259811401,\n",
       " 0.7810109853744507,\n",
       " 0.7831869125366211,\n",
       " 0.7853500843048096,\n",
       " 0.7875010967254639,\n",
       " 0.789639949798584,\n",
       " 0.7917670011520386,\n",
       " 0.7938816547393799,\n",
       " 0.7959842681884766,\n",
       " 0.7980738878250122,\n",
       " 0.8001507520675659,\n",
       " 0.8022141456604004,\n",
       " 0.8042640686035156,\n",
       " 0.8063005208969116,\n",
       " 0.8083232641220093,\n",
       " 0.810332179069519,\n",
       " 0.81232750415802,\n",
       " 0.8143088817596436,\n",
       " 0.8162764310836792,\n",
       " 0.8182300329208374,\n",
       " 0.8201694488525391,\n",
       " 0.8220946788787842,\n",
       " 0.8240056037902832,\n",
       " 0.8259018659591675,\n",
       " 0.8277856111526489,\n",
       " 0.8296574354171753,\n",
       " 0.8315169811248779,\n",
       " 0.8333636522293091,\n",
       " 0.8351967334747314,\n",
       " 0.8370153903961182,\n",
       " 0.8388205766677856,\n",
       " 0.8406119346618652,\n",
       " 0.8423891067504883,\n",
       " 0.8441519737243652,\n",
       " 0.845900297164917,\n",
       " 0.8476340770721436,\n",
       " 0.8493531942367554,\n",
       " 0.8510575294494629,\n",
       " 0.8527473211288452,\n",
       " 0.8544222116470337,\n",
       " 0.8560823202133179,\n",
       " 0.8577276468276978,\n",
       " 0.8593579530715942,\n",
       " 0.8609733581542969,\n",
       " 0.8625738620758057,\n",
       " 0.8641592264175415,\n",
       " 0.865729570388794,\n",
       " 0.867284893989563,\n",
       " 0.8688253164291382,\n",
       " 0.8703505992889404,\n",
       " 0.8718612194061279]"
      ]
     },
     "execution_count": 177,
     "metadata": {},
     "output_type": "execute_result"
    }
   ],
   "source": [
    "clean_floats"
   ]
  },
  {
   "cell_type": "code",
   "execution_count": 174,
   "id": "7ee729c3-c42c-41fa-a3df-a22f55a6aa2e",
   "metadata": {},
   "outputs": [
    {
     "ename": "AttributeError",
     "evalue": "'numpy.ndarray' object has no attribute 'append'",
     "output_type": "error",
     "traceback": [
      "\u001b[31m---------------------------------------------------------------------------\u001b[39m",
      "\u001b[31mAttributeError\u001b[39m                            Traceback (most recent call last)",
      "\u001b[36mCell\u001b[39m\u001b[36m \u001b[39m\u001b[32mIn[174]\u001b[39m\u001b[32m, line 1\u001b[39m\n\u001b[32m----> \u001b[39m\u001b[32m1\u001b[39m final=\u001b[43minput_fut\u001b[49m\u001b[43m.\u001b[49m\u001b[43mappend\u001b[49m(clean_floats)\n\u001b[32m      2\u001b[39m plt.plot(final)\n",
      "\u001b[31mAttributeError\u001b[39m: 'numpy.ndarray' object has no attribute 'append'"
     ]
    }
   ],
   "source": [
    "final=input_fut.append(clean_floats)\n",
    "plt.plot(final)"
   ]
  },
  {
   "cell_type": "code",
   "execution_count": null,
   "id": "a06f2ae4-c63e-4f87-8cde-3acc7c6c96a4",
   "metadata": {},
   "outputs": [],
   "source": []
  }
 ],
 "metadata": {
  "kernelspec": {
   "display_name": "Python 3 (ipykernel)",
   "language": "python",
   "name": "python3"
  },
  "language_info": {
   "codemirror_mode": {
    "name": "ipython",
    "version": 3
   },
   "file_extension": ".py",
   "mimetype": "text/x-python",
   "name": "python",
   "nbconvert_exporter": "python",
   "pygments_lexer": "ipython3",
   "version": "3.12.3"
  }
 },
 "nbformat": 4,
 "nbformat_minor": 5
}
